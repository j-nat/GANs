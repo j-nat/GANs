{
  "nbformat": 4,
  "nbformat_minor": 0,
  "metadata": {
    "colab": {
      "provenance": []
    },
    "kernelspec": {
      "name": "python3",
      "display_name": "Python 3"
    },
    "language_info": {
      "name": "python"
    },
    "widgets": {
      "application/vnd.jupyter.widget-state+json": {
        "dc61cfa90d1e4a16a18f93f4c09ccf27": {
          "model_module": "@jupyter-widgets/controls",
          "model_name": "HBoxModel",
          "model_module_version": "1.5.0",
          "state": {
            "_dom_classes": [],
            "_model_module": "@jupyter-widgets/controls",
            "_model_module_version": "1.5.0",
            "_model_name": "HBoxModel",
            "_view_count": null,
            "_view_module": "@jupyter-widgets/controls",
            "_view_module_version": "1.5.0",
            "_view_name": "HBoxView",
            "box_style": "",
            "children": [
              "IPY_MODEL_38e6195a2d094cf3b8c6b20348413c25",
              "IPY_MODEL_866ea2ae871a4f2b85a7488de49e118d",
              "IPY_MODEL_749dbd9477e04793a57cdbc251aa2217"
            ],
            "layout": "IPY_MODEL_47391a24644b4a6480cef3284c73c43e"
          }
        },
        "38e6195a2d094cf3b8c6b20348413c25": {
          "model_module": "@jupyter-widgets/controls",
          "model_name": "HTMLModel",
          "model_module_version": "1.5.0",
          "state": {
            "_dom_classes": [],
            "_model_module": "@jupyter-widgets/controls",
            "_model_module_version": "1.5.0",
            "_model_name": "HTMLModel",
            "_view_count": null,
            "_view_module": "@jupyter-widgets/controls",
            "_view_module_version": "1.5.0",
            "_view_name": "HTMLView",
            "description": "",
            "description_tooltip": null,
            "layout": "IPY_MODEL_43a2346d15d042be9db26c29aa9390b5",
            "placeholder": "​",
            "style": "IPY_MODEL_878907458ded4cb89aa6774924506aa6",
            "value": "100%"
          }
        },
        "866ea2ae871a4f2b85a7488de49e118d": {
          "model_module": "@jupyter-widgets/controls",
          "model_name": "FloatProgressModel",
          "model_module_version": "1.5.0",
          "state": {
            "_dom_classes": [],
            "_model_module": "@jupyter-widgets/controls",
            "_model_module_version": "1.5.0",
            "_model_name": "FloatProgressModel",
            "_view_count": null,
            "_view_module": "@jupyter-widgets/controls",
            "_view_module_version": "1.5.0",
            "_view_name": "ProgressView",
            "bar_style": "success",
            "description": "",
            "description_tooltip": null,
            "layout": "IPY_MODEL_7abf4321ed914e59b996428bba5c9191",
            "max": 9912422,
            "min": 0,
            "orientation": "horizontal",
            "style": "IPY_MODEL_0c563750c4bf4a50bc9ac0c5ba8f81f7",
            "value": 9912422
          }
        },
        "749dbd9477e04793a57cdbc251aa2217": {
          "model_module": "@jupyter-widgets/controls",
          "model_name": "HTMLModel",
          "model_module_version": "1.5.0",
          "state": {
            "_dom_classes": [],
            "_model_module": "@jupyter-widgets/controls",
            "_model_module_version": "1.5.0",
            "_model_name": "HTMLModel",
            "_view_count": null,
            "_view_module": "@jupyter-widgets/controls",
            "_view_module_version": "1.5.0",
            "_view_name": "HTMLView",
            "description": "",
            "description_tooltip": null,
            "layout": "IPY_MODEL_a7003b60af434e3da97e818de9f79ffb",
            "placeholder": "​",
            "style": "IPY_MODEL_89ef70262bbc49e4ae98e9e52586c4ef",
            "value": " 9912422/9912422 [00:00&lt;00:00, 37001674.28it/s]"
          }
        },
        "47391a24644b4a6480cef3284c73c43e": {
          "model_module": "@jupyter-widgets/base",
          "model_name": "LayoutModel",
          "model_module_version": "1.2.0",
          "state": {
            "_model_module": "@jupyter-widgets/base",
            "_model_module_version": "1.2.0",
            "_model_name": "LayoutModel",
            "_view_count": null,
            "_view_module": "@jupyter-widgets/base",
            "_view_module_version": "1.2.0",
            "_view_name": "LayoutView",
            "align_content": null,
            "align_items": null,
            "align_self": null,
            "border": null,
            "bottom": null,
            "display": null,
            "flex": null,
            "flex_flow": null,
            "grid_area": null,
            "grid_auto_columns": null,
            "grid_auto_flow": null,
            "grid_auto_rows": null,
            "grid_column": null,
            "grid_gap": null,
            "grid_row": null,
            "grid_template_areas": null,
            "grid_template_columns": null,
            "grid_template_rows": null,
            "height": null,
            "justify_content": null,
            "justify_items": null,
            "left": null,
            "margin": null,
            "max_height": null,
            "max_width": null,
            "min_height": null,
            "min_width": null,
            "object_fit": null,
            "object_position": null,
            "order": null,
            "overflow": null,
            "overflow_x": null,
            "overflow_y": null,
            "padding": null,
            "right": null,
            "top": null,
            "visibility": null,
            "width": null
          }
        },
        "43a2346d15d042be9db26c29aa9390b5": {
          "model_module": "@jupyter-widgets/base",
          "model_name": "LayoutModel",
          "model_module_version": "1.2.0",
          "state": {
            "_model_module": "@jupyter-widgets/base",
            "_model_module_version": "1.2.0",
            "_model_name": "LayoutModel",
            "_view_count": null,
            "_view_module": "@jupyter-widgets/base",
            "_view_module_version": "1.2.0",
            "_view_name": "LayoutView",
            "align_content": null,
            "align_items": null,
            "align_self": null,
            "border": null,
            "bottom": null,
            "display": null,
            "flex": null,
            "flex_flow": null,
            "grid_area": null,
            "grid_auto_columns": null,
            "grid_auto_flow": null,
            "grid_auto_rows": null,
            "grid_column": null,
            "grid_gap": null,
            "grid_row": null,
            "grid_template_areas": null,
            "grid_template_columns": null,
            "grid_template_rows": null,
            "height": null,
            "justify_content": null,
            "justify_items": null,
            "left": null,
            "margin": null,
            "max_height": null,
            "max_width": null,
            "min_height": null,
            "min_width": null,
            "object_fit": null,
            "object_position": null,
            "order": null,
            "overflow": null,
            "overflow_x": null,
            "overflow_y": null,
            "padding": null,
            "right": null,
            "top": null,
            "visibility": null,
            "width": null
          }
        },
        "878907458ded4cb89aa6774924506aa6": {
          "model_module": "@jupyter-widgets/controls",
          "model_name": "DescriptionStyleModel",
          "model_module_version": "1.5.0",
          "state": {
            "_model_module": "@jupyter-widgets/controls",
            "_model_module_version": "1.5.0",
            "_model_name": "DescriptionStyleModel",
            "_view_count": null,
            "_view_module": "@jupyter-widgets/base",
            "_view_module_version": "1.2.0",
            "_view_name": "StyleView",
            "description_width": ""
          }
        },
        "7abf4321ed914e59b996428bba5c9191": {
          "model_module": "@jupyter-widgets/base",
          "model_name": "LayoutModel",
          "model_module_version": "1.2.0",
          "state": {
            "_model_module": "@jupyter-widgets/base",
            "_model_module_version": "1.2.0",
            "_model_name": "LayoutModel",
            "_view_count": null,
            "_view_module": "@jupyter-widgets/base",
            "_view_module_version": "1.2.0",
            "_view_name": "LayoutView",
            "align_content": null,
            "align_items": null,
            "align_self": null,
            "border": null,
            "bottom": null,
            "display": null,
            "flex": null,
            "flex_flow": null,
            "grid_area": null,
            "grid_auto_columns": null,
            "grid_auto_flow": null,
            "grid_auto_rows": null,
            "grid_column": null,
            "grid_gap": null,
            "grid_row": null,
            "grid_template_areas": null,
            "grid_template_columns": null,
            "grid_template_rows": null,
            "height": null,
            "justify_content": null,
            "justify_items": null,
            "left": null,
            "margin": null,
            "max_height": null,
            "max_width": null,
            "min_height": null,
            "min_width": null,
            "object_fit": null,
            "object_position": null,
            "order": null,
            "overflow": null,
            "overflow_x": null,
            "overflow_y": null,
            "padding": null,
            "right": null,
            "top": null,
            "visibility": null,
            "width": null
          }
        },
        "0c563750c4bf4a50bc9ac0c5ba8f81f7": {
          "model_module": "@jupyter-widgets/controls",
          "model_name": "ProgressStyleModel",
          "model_module_version": "1.5.0",
          "state": {
            "_model_module": "@jupyter-widgets/controls",
            "_model_module_version": "1.5.0",
            "_model_name": "ProgressStyleModel",
            "_view_count": null,
            "_view_module": "@jupyter-widgets/base",
            "_view_module_version": "1.2.0",
            "_view_name": "StyleView",
            "bar_color": null,
            "description_width": ""
          }
        },
        "a7003b60af434e3da97e818de9f79ffb": {
          "model_module": "@jupyter-widgets/base",
          "model_name": "LayoutModel",
          "model_module_version": "1.2.0",
          "state": {
            "_model_module": "@jupyter-widgets/base",
            "_model_module_version": "1.2.0",
            "_model_name": "LayoutModel",
            "_view_count": null,
            "_view_module": "@jupyter-widgets/base",
            "_view_module_version": "1.2.0",
            "_view_name": "LayoutView",
            "align_content": null,
            "align_items": null,
            "align_self": null,
            "border": null,
            "bottom": null,
            "display": null,
            "flex": null,
            "flex_flow": null,
            "grid_area": null,
            "grid_auto_columns": null,
            "grid_auto_flow": null,
            "grid_auto_rows": null,
            "grid_column": null,
            "grid_gap": null,
            "grid_row": null,
            "grid_template_areas": null,
            "grid_template_columns": null,
            "grid_template_rows": null,
            "height": null,
            "justify_content": null,
            "justify_items": null,
            "left": null,
            "margin": null,
            "max_height": null,
            "max_width": null,
            "min_height": null,
            "min_width": null,
            "object_fit": null,
            "object_position": null,
            "order": null,
            "overflow": null,
            "overflow_x": null,
            "overflow_y": null,
            "padding": null,
            "right": null,
            "top": null,
            "visibility": null,
            "width": null
          }
        },
        "89ef70262bbc49e4ae98e9e52586c4ef": {
          "model_module": "@jupyter-widgets/controls",
          "model_name": "DescriptionStyleModel",
          "model_module_version": "1.5.0",
          "state": {
            "_model_module": "@jupyter-widgets/controls",
            "_model_module_version": "1.5.0",
            "_model_name": "DescriptionStyleModel",
            "_view_count": null,
            "_view_module": "@jupyter-widgets/base",
            "_view_module_version": "1.2.0",
            "_view_name": "StyleView",
            "description_width": ""
          }
        },
        "649d6b61c3ed4d2092f59d0bd4a15ac9": {
          "model_module": "@jupyter-widgets/controls",
          "model_name": "HBoxModel",
          "model_module_version": "1.5.0",
          "state": {
            "_dom_classes": [],
            "_model_module": "@jupyter-widgets/controls",
            "_model_module_version": "1.5.0",
            "_model_name": "HBoxModel",
            "_view_count": null,
            "_view_module": "@jupyter-widgets/controls",
            "_view_module_version": "1.5.0",
            "_view_name": "HBoxView",
            "box_style": "",
            "children": [
              "IPY_MODEL_500b0e65d20b4bfbac1497b0b360f8ce",
              "IPY_MODEL_2e9c4dc63da440bb813e59f2657e8b58",
              "IPY_MODEL_92389627e6c84dabbe37fe63e209ad8b"
            ],
            "layout": "IPY_MODEL_003f6bb44c9f4ee4bd5a5cecb815be39"
          }
        },
        "500b0e65d20b4bfbac1497b0b360f8ce": {
          "model_module": "@jupyter-widgets/controls",
          "model_name": "HTMLModel",
          "model_module_version": "1.5.0",
          "state": {
            "_dom_classes": [],
            "_model_module": "@jupyter-widgets/controls",
            "_model_module_version": "1.5.0",
            "_model_name": "HTMLModel",
            "_view_count": null,
            "_view_module": "@jupyter-widgets/controls",
            "_view_module_version": "1.5.0",
            "_view_name": "HTMLView",
            "description": "",
            "description_tooltip": null,
            "layout": "IPY_MODEL_b4e22a99e5084838b7769b93c0fa885e",
            "placeholder": "​",
            "style": "IPY_MODEL_bbc8c483e01f46d887f3be4559d749ae",
            "value": "100%"
          }
        },
        "2e9c4dc63da440bb813e59f2657e8b58": {
          "model_module": "@jupyter-widgets/controls",
          "model_name": "FloatProgressModel",
          "model_module_version": "1.5.0",
          "state": {
            "_dom_classes": [],
            "_model_module": "@jupyter-widgets/controls",
            "_model_module_version": "1.5.0",
            "_model_name": "FloatProgressModel",
            "_view_count": null,
            "_view_module": "@jupyter-widgets/controls",
            "_view_module_version": "1.5.0",
            "_view_name": "ProgressView",
            "bar_style": "success",
            "description": "",
            "description_tooltip": null,
            "layout": "IPY_MODEL_0f203eb35066410a840f25be1cd0bfeb",
            "max": 28881,
            "min": 0,
            "orientation": "horizontal",
            "style": "IPY_MODEL_b0625287abee483bba096b4bb874cdde",
            "value": 28881
          }
        },
        "92389627e6c84dabbe37fe63e209ad8b": {
          "model_module": "@jupyter-widgets/controls",
          "model_name": "HTMLModel",
          "model_module_version": "1.5.0",
          "state": {
            "_dom_classes": [],
            "_model_module": "@jupyter-widgets/controls",
            "_model_module_version": "1.5.0",
            "_model_name": "HTMLModel",
            "_view_count": null,
            "_view_module": "@jupyter-widgets/controls",
            "_view_module_version": "1.5.0",
            "_view_name": "HTMLView",
            "description": "",
            "description_tooltip": null,
            "layout": "IPY_MODEL_2015dea29a4243e89779ea65d6317367",
            "placeholder": "​",
            "style": "IPY_MODEL_7717f5c0ec5f4c5687d29d8632e4e351",
            "value": " 28881/28881 [00:00&lt;00:00, 1483469.80it/s]"
          }
        },
        "003f6bb44c9f4ee4bd5a5cecb815be39": {
          "model_module": "@jupyter-widgets/base",
          "model_name": "LayoutModel",
          "model_module_version": "1.2.0",
          "state": {
            "_model_module": "@jupyter-widgets/base",
            "_model_module_version": "1.2.0",
            "_model_name": "LayoutModel",
            "_view_count": null,
            "_view_module": "@jupyter-widgets/base",
            "_view_module_version": "1.2.0",
            "_view_name": "LayoutView",
            "align_content": null,
            "align_items": null,
            "align_self": null,
            "border": null,
            "bottom": null,
            "display": null,
            "flex": null,
            "flex_flow": null,
            "grid_area": null,
            "grid_auto_columns": null,
            "grid_auto_flow": null,
            "grid_auto_rows": null,
            "grid_column": null,
            "grid_gap": null,
            "grid_row": null,
            "grid_template_areas": null,
            "grid_template_columns": null,
            "grid_template_rows": null,
            "height": null,
            "justify_content": null,
            "justify_items": null,
            "left": null,
            "margin": null,
            "max_height": null,
            "max_width": null,
            "min_height": null,
            "min_width": null,
            "object_fit": null,
            "object_position": null,
            "order": null,
            "overflow": null,
            "overflow_x": null,
            "overflow_y": null,
            "padding": null,
            "right": null,
            "top": null,
            "visibility": null,
            "width": null
          }
        },
        "b4e22a99e5084838b7769b93c0fa885e": {
          "model_module": "@jupyter-widgets/base",
          "model_name": "LayoutModel",
          "model_module_version": "1.2.0",
          "state": {
            "_model_module": "@jupyter-widgets/base",
            "_model_module_version": "1.2.0",
            "_model_name": "LayoutModel",
            "_view_count": null,
            "_view_module": "@jupyter-widgets/base",
            "_view_module_version": "1.2.0",
            "_view_name": "LayoutView",
            "align_content": null,
            "align_items": null,
            "align_self": null,
            "border": null,
            "bottom": null,
            "display": null,
            "flex": null,
            "flex_flow": null,
            "grid_area": null,
            "grid_auto_columns": null,
            "grid_auto_flow": null,
            "grid_auto_rows": null,
            "grid_column": null,
            "grid_gap": null,
            "grid_row": null,
            "grid_template_areas": null,
            "grid_template_columns": null,
            "grid_template_rows": null,
            "height": null,
            "justify_content": null,
            "justify_items": null,
            "left": null,
            "margin": null,
            "max_height": null,
            "max_width": null,
            "min_height": null,
            "min_width": null,
            "object_fit": null,
            "object_position": null,
            "order": null,
            "overflow": null,
            "overflow_x": null,
            "overflow_y": null,
            "padding": null,
            "right": null,
            "top": null,
            "visibility": null,
            "width": null
          }
        },
        "bbc8c483e01f46d887f3be4559d749ae": {
          "model_module": "@jupyter-widgets/controls",
          "model_name": "DescriptionStyleModel",
          "model_module_version": "1.5.0",
          "state": {
            "_model_module": "@jupyter-widgets/controls",
            "_model_module_version": "1.5.0",
            "_model_name": "DescriptionStyleModel",
            "_view_count": null,
            "_view_module": "@jupyter-widgets/base",
            "_view_module_version": "1.2.0",
            "_view_name": "StyleView",
            "description_width": ""
          }
        },
        "0f203eb35066410a840f25be1cd0bfeb": {
          "model_module": "@jupyter-widgets/base",
          "model_name": "LayoutModel",
          "model_module_version": "1.2.0",
          "state": {
            "_model_module": "@jupyter-widgets/base",
            "_model_module_version": "1.2.0",
            "_model_name": "LayoutModel",
            "_view_count": null,
            "_view_module": "@jupyter-widgets/base",
            "_view_module_version": "1.2.0",
            "_view_name": "LayoutView",
            "align_content": null,
            "align_items": null,
            "align_self": null,
            "border": null,
            "bottom": null,
            "display": null,
            "flex": null,
            "flex_flow": null,
            "grid_area": null,
            "grid_auto_columns": null,
            "grid_auto_flow": null,
            "grid_auto_rows": null,
            "grid_column": null,
            "grid_gap": null,
            "grid_row": null,
            "grid_template_areas": null,
            "grid_template_columns": null,
            "grid_template_rows": null,
            "height": null,
            "justify_content": null,
            "justify_items": null,
            "left": null,
            "margin": null,
            "max_height": null,
            "max_width": null,
            "min_height": null,
            "min_width": null,
            "object_fit": null,
            "object_position": null,
            "order": null,
            "overflow": null,
            "overflow_x": null,
            "overflow_y": null,
            "padding": null,
            "right": null,
            "top": null,
            "visibility": null,
            "width": null
          }
        },
        "b0625287abee483bba096b4bb874cdde": {
          "model_module": "@jupyter-widgets/controls",
          "model_name": "ProgressStyleModel",
          "model_module_version": "1.5.0",
          "state": {
            "_model_module": "@jupyter-widgets/controls",
            "_model_module_version": "1.5.0",
            "_model_name": "ProgressStyleModel",
            "_view_count": null,
            "_view_module": "@jupyter-widgets/base",
            "_view_module_version": "1.2.0",
            "_view_name": "StyleView",
            "bar_color": null,
            "description_width": ""
          }
        },
        "2015dea29a4243e89779ea65d6317367": {
          "model_module": "@jupyter-widgets/base",
          "model_name": "LayoutModel",
          "model_module_version": "1.2.0",
          "state": {
            "_model_module": "@jupyter-widgets/base",
            "_model_module_version": "1.2.0",
            "_model_name": "LayoutModel",
            "_view_count": null,
            "_view_module": "@jupyter-widgets/base",
            "_view_module_version": "1.2.0",
            "_view_name": "LayoutView",
            "align_content": null,
            "align_items": null,
            "align_self": null,
            "border": null,
            "bottom": null,
            "display": null,
            "flex": null,
            "flex_flow": null,
            "grid_area": null,
            "grid_auto_columns": null,
            "grid_auto_flow": null,
            "grid_auto_rows": null,
            "grid_column": null,
            "grid_gap": null,
            "grid_row": null,
            "grid_template_areas": null,
            "grid_template_columns": null,
            "grid_template_rows": null,
            "height": null,
            "justify_content": null,
            "justify_items": null,
            "left": null,
            "margin": null,
            "max_height": null,
            "max_width": null,
            "min_height": null,
            "min_width": null,
            "object_fit": null,
            "object_position": null,
            "order": null,
            "overflow": null,
            "overflow_x": null,
            "overflow_y": null,
            "padding": null,
            "right": null,
            "top": null,
            "visibility": null,
            "width": null
          }
        },
        "7717f5c0ec5f4c5687d29d8632e4e351": {
          "model_module": "@jupyter-widgets/controls",
          "model_name": "DescriptionStyleModel",
          "model_module_version": "1.5.0",
          "state": {
            "_model_module": "@jupyter-widgets/controls",
            "_model_module_version": "1.5.0",
            "_model_name": "DescriptionStyleModel",
            "_view_count": null,
            "_view_module": "@jupyter-widgets/base",
            "_view_module_version": "1.2.0",
            "_view_name": "StyleView",
            "description_width": ""
          }
        },
        "f39a422f5a12430c92f102ec5eb24399": {
          "model_module": "@jupyter-widgets/controls",
          "model_name": "HBoxModel",
          "model_module_version": "1.5.0",
          "state": {
            "_dom_classes": [],
            "_model_module": "@jupyter-widgets/controls",
            "_model_module_version": "1.5.0",
            "_model_name": "HBoxModel",
            "_view_count": null,
            "_view_module": "@jupyter-widgets/controls",
            "_view_module_version": "1.5.0",
            "_view_name": "HBoxView",
            "box_style": "",
            "children": [
              "IPY_MODEL_7fd513a037d24ccf831b7f8cf3ef0897",
              "IPY_MODEL_2f8517bf790648a2ab07ace8146cff04",
              "IPY_MODEL_31e401cc38314dd09f5bafd128d955da"
            ],
            "layout": "IPY_MODEL_58db9b526b154fce905ee98376c6d37b"
          }
        },
        "7fd513a037d24ccf831b7f8cf3ef0897": {
          "model_module": "@jupyter-widgets/controls",
          "model_name": "HTMLModel",
          "model_module_version": "1.5.0",
          "state": {
            "_dom_classes": [],
            "_model_module": "@jupyter-widgets/controls",
            "_model_module_version": "1.5.0",
            "_model_name": "HTMLModel",
            "_view_count": null,
            "_view_module": "@jupyter-widgets/controls",
            "_view_module_version": "1.5.0",
            "_view_name": "HTMLView",
            "description": "",
            "description_tooltip": null,
            "layout": "IPY_MODEL_8242ad76cd2a45e8a27c315ffce8c705",
            "placeholder": "​",
            "style": "IPY_MODEL_d18b741c075e43f0974d3ebd5f066fd9",
            "value": "100%"
          }
        },
        "2f8517bf790648a2ab07ace8146cff04": {
          "model_module": "@jupyter-widgets/controls",
          "model_name": "FloatProgressModel",
          "model_module_version": "1.5.0",
          "state": {
            "_dom_classes": [],
            "_model_module": "@jupyter-widgets/controls",
            "_model_module_version": "1.5.0",
            "_model_name": "FloatProgressModel",
            "_view_count": null,
            "_view_module": "@jupyter-widgets/controls",
            "_view_module_version": "1.5.0",
            "_view_name": "ProgressView",
            "bar_style": "success",
            "description": "",
            "description_tooltip": null,
            "layout": "IPY_MODEL_347496cfc9b549b7afdc2d456b58857c",
            "max": 1648877,
            "min": 0,
            "orientation": "horizontal",
            "style": "IPY_MODEL_d4ce2625b1094b3282936b2472a22753",
            "value": 1648877
          }
        },
        "31e401cc38314dd09f5bafd128d955da": {
          "model_module": "@jupyter-widgets/controls",
          "model_name": "HTMLModel",
          "model_module_version": "1.5.0",
          "state": {
            "_dom_classes": [],
            "_model_module": "@jupyter-widgets/controls",
            "_model_module_version": "1.5.0",
            "_model_name": "HTMLModel",
            "_view_count": null,
            "_view_module": "@jupyter-widgets/controls",
            "_view_module_version": "1.5.0",
            "_view_name": "HTMLView",
            "description": "",
            "description_tooltip": null,
            "layout": "IPY_MODEL_cf00acd6602f4f87a06580ef6350117f",
            "placeholder": "​",
            "style": "IPY_MODEL_ee00cc1f269c4d4e84e3a465c0dca8aa",
            "value": " 1648877/1648877 [00:00&lt;00:00, 19251826.52it/s]"
          }
        },
        "58db9b526b154fce905ee98376c6d37b": {
          "model_module": "@jupyter-widgets/base",
          "model_name": "LayoutModel",
          "model_module_version": "1.2.0",
          "state": {
            "_model_module": "@jupyter-widgets/base",
            "_model_module_version": "1.2.0",
            "_model_name": "LayoutModel",
            "_view_count": null,
            "_view_module": "@jupyter-widgets/base",
            "_view_module_version": "1.2.0",
            "_view_name": "LayoutView",
            "align_content": null,
            "align_items": null,
            "align_self": null,
            "border": null,
            "bottom": null,
            "display": null,
            "flex": null,
            "flex_flow": null,
            "grid_area": null,
            "grid_auto_columns": null,
            "grid_auto_flow": null,
            "grid_auto_rows": null,
            "grid_column": null,
            "grid_gap": null,
            "grid_row": null,
            "grid_template_areas": null,
            "grid_template_columns": null,
            "grid_template_rows": null,
            "height": null,
            "justify_content": null,
            "justify_items": null,
            "left": null,
            "margin": null,
            "max_height": null,
            "max_width": null,
            "min_height": null,
            "min_width": null,
            "object_fit": null,
            "object_position": null,
            "order": null,
            "overflow": null,
            "overflow_x": null,
            "overflow_y": null,
            "padding": null,
            "right": null,
            "top": null,
            "visibility": null,
            "width": null
          }
        },
        "8242ad76cd2a45e8a27c315ffce8c705": {
          "model_module": "@jupyter-widgets/base",
          "model_name": "LayoutModel",
          "model_module_version": "1.2.0",
          "state": {
            "_model_module": "@jupyter-widgets/base",
            "_model_module_version": "1.2.0",
            "_model_name": "LayoutModel",
            "_view_count": null,
            "_view_module": "@jupyter-widgets/base",
            "_view_module_version": "1.2.0",
            "_view_name": "LayoutView",
            "align_content": null,
            "align_items": null,
            "align_self": null,
            "border": null,
            "bottom": null,
            "display": null,
            "flex": null,
            "flex_flow": null,
            "grid_area": null,
            "grid_auto_columns": null,
            "grid_auto_flow": null,
            "grid_auto_rows": null,
            "grid_column": null,
            "grid_gap": null,
            "grid_row": null,
            "grid_template_areas": null,
            "grid_template_columns": null,
            "grid_template_rows": null,
            "height": null,
            "justify_content": null,
            "justify_items": null,
            "left": null,
            "margin": null,
            "max_height": null,
            "max_width": null,
            "min_height": null,
            "min_width": null,
            "object_fit": null,
            "object_position": null,
            "order": null,
            "overflow": null,
            "overflow_x": null,
            "overflow_y": null,
            "padding": null,
            "right": null,
            "top": null,
            "visibility": null,
            "width": null
          }
        },
        "d18b741c075e43f0974d3ebd5f066fd9": {
          "model_module": "@jupyter-widgets/controls",
          "model_name": "DescriptionStyleModel",
          "model_module_version": "1.5.0",
          "state": {
            "_model_module": "@jupyter-widgets/controls",
            "_model_module_version": "1.5.0",
            "_model_name": "DescriptionStyleModel",
            "_view_count": null,
            "_view_module": "@jupyter-widgets/base",
            "_view_module_version": "1.2.0",
            "_view_name": "StyleView",
            "description_width": ""
          }
        },
        "347496cfc9b549b7afdc2d456b58857c": {
          "model_module": "@jupyter-widgets/base",
          "model_name": "LayoutModel",
          "model_module_version": "1.2.0",
          "state": {
            "_model_module": "@jupyter-widgets/base",
            "_model_module_version": "1.2.0",
            "_model_name": "LayoutModel",
            "_view_count": null,
            "_view_module": "@jupyter-widgets/base",
            "_view_module_version": "1.2.0",
            "_view_name": "LayoutView",
            "align_content": null,
            "align_items": null,
            "align_self": null,
            "border": null,
            "bottom": null,
            "display": null,
            "flex": null,
            "flex_flow": null,
            "grid_area": null,
            "grid_auto_columns": null,
            "grid_auto_flow": null,
            "grid_auto_rows": null,
            "grid_column": null,
            "grid_gap": null,
            "grid_row": null,
            "grid_template_areas": null,
            "grid_template_columns": null,
            "grid_template_rows": null,
            "height": null,
            "justify_content": null,
            "justify_items": null,
            "left": null,
            "margin": null,
            "max_height": null,
            "max_width": null,
            "min_height": null,
            "min_width": null,
            "object_fit": null,
            "object_position": null,
            "order": null,
            "overflow": null,
            "overflow_x": null,
            "overflow_y": null,
            "padding": null,
            "right": null,
            "top": null,
            "visibility": null,
            "width": null
          }
        },
        "d4ce2625b1094b3282936b2472a22753": {
          "model_module": "@jupyter-widgets/controls",
          "model_name": "ProgressStyleModel",
          "model_module_version": "1.5.0",
          "state": {
            "_model_module": "@jupyter-widgets/controls",
            "_model_module_version": "1.5.0",
            "_model_name": "ProgressStyleModel",
            "_view_count": null,
            "_view_module": "@jupyter-widgets/base",
            "_view_module_version": "1.2.0",
            "_view_name": "StyleView",
            "bar_color": null,
            "description_width": ""
          }
        },
        "cf00acd6602f4f87a06580ef6350117f": {
          "model_module": "@jupyter-widgets/base",
          "model_name": "LayoutModel",
          "model_module_version": "1.2.0",
          "state": {
            "_model_module": "@jupyter-widgets/base",
            "_model_module_version": "1.2.0",
            "_model_name": "LayoutModel",
            "_view_count": null,
            "_view_module": "@jupyter-widgets/base",
            "_view_module_version": "1.2.0",
            "_view_name": "LayoutView",
            "align_content": null,
            "align_items": null,
            "align_self": null,
            "border": null,
            "bottom": null,
            "display": null,
            "flex": null,
            "flex_flow": null,
            "grid_area": null,
            "grid_auto_columns": null,
            "grid_auto_flow": null,
            "grid_auto_rows": null,
            "grid_column": null,
            "grid_gap": null,
            "grid_row": null,
            "grid_template_areas": null,
            "grid_template_columns": null,
            "grid_template_rows": null,
            "height": null,
            "justify_content": null,
            "justify_items": null,
            "left": null,
            "margin": null,
            "max_height": null,
            "max_width": null,
            "min_height": null,
            "min_width": null,
            "object_fit": null,
            "object_position": null,
            "order": null,
            "overflow": null,
            "overflow_x": null,
            "overflow_y": null,
            "padding": null,
            "right": null,
            "top": null,
            "visibility": null,
            "width": null
          }
        },
        "ee00cc1f269c4d4e84e3a465c0dca8aa": {
          "model_module": "@jupyter-widgets/controls",
          "model_name": "DescriptionStyleModel",
          "model_module_version": "1.5.0",
          "state": {
            "_model_module": "@jupyter-widgets/controls",
            "_model_module_version": "1.5.0",
            "_model_name": "DescriptionStyleModel",
            "_view_count": null,
            "_view_module": "@jupyter-widgets/base",
            "_view_module_version": "1.2.0",
            "_view_name": "StyleView",
            "description_width": ""
          }
        },
        "23fd703cb2b449ca9afbf2347bd5850f": {
          "model_module": "@jupyter-widgets/controls",
          "model_name": "HBoxModel",
          "model_module_version": "1.5.0",
          "state": {
            "_dom_classes": [],
            "_model_module": "@jupyter-widgets/controls",
            "_model_module_version": "1.5.0",
            "_model_name": "HBoxModel",
            "_view_count": null,
            "_view_module": "@jupyter-widgets/controls",
            "_view_module_version": "1.5.0",
            "_view_name": "HBoxView",
            "box_style": "",
            "children": [
              "IPY_MODEL_d5056d9c2b6e4335b1861d167157a48f",
              "IPY_MODEL_4d0e4e100fb6426fbde9e815d56f0dc3",
              "IPY_MODEL_3fc163eb8eab4149856d12723eb18c8b"
            ],
            "layout": "IPY_MODEL_d3d98bb4dc2747429ecba41604ae0d23"
          }
        },
        "d5056d9c2b6e4335b1861d167157a48f": {
          "model_module": "@jupyter-widgets/controls",
          "model_name": "HTMLModel",
          "model_module_version": "1.5.0",
          "state": {
            "_dom_classes": [],
            "_model_module": "@jupyter-widgets/controls",
            "_model_module_version": "1.5.0",
            "_model_name": "HTMLModel",
            "_view_count": null,
            "_view_module": "@jupyter-widgets/controls",
            "_view_module_version": "1.5.0",
            "_view_name": "HTMLView",
            "description": "",
            "description_tooltip": null,
            "layout": "IPY_MODEL_4a88144789904dcbafdd96d4e1f65846",
            "placeholder": "​",
            "style": "IPY_MODEL_0fc783f43c5741a2861eac51d4c0f09b",
            "value": "100%"
          }
        },
        "4d0e4e100fb6426fbde9e815d56f0dc3": {
          "model_module": "@jupyter-widgets/controls",
          "model_name": "FloatProgressModel",
          "model_module_version": "1.5.0",
          "state": {
            "_dom_classes": [],
            "_model_module": "@jupyter-widgets/controls",
            "_model_module_version": "1.5.0",
            "_model_name": "FloatProgressModel",
            "_view_count": null,
            "_view_module": "@jupyter-widgets/controls",
            "_view_module_version": "1.5.0",
            "_view_name": "ProgressView",
            "bar_style": "success",
            "description": "",
            "description_tooltip": null,
            "layout": "IPY_MODEL_5c03b25ad92c4a7386052fcfdb2ab25c",
            "max": 4542,
            "min": 0,
            "orientation": "horizontal",
            "style": "IPY_MODEL_c5d4fc66fbfa4ebeafe2f2fe65910dfc",
            "value": 4542
          }
        },
        "3fc163eb8eab4149856d12723eb18c8b": {
          "model_module": "@jupyter-widgets/controls",
          "model_name": "HTMLModel",
          "model_module_version": "1.5.0",
          "state": {
            "_dom_classes": [],
            "_model_module": "@jupyter-widgets/controls",
            "_model_module_version": "1.5.0",
            "_model_name": "HTMLModel",
            "_view_count": null,
            "_view_module": "@jupyter-widgets/controls",
            "_view_module_version": "1.5.0",
            "_view_name": "HTMLView",
            "description": "",
            "description_tooltip": null,
            "layout": "IPY_MODEL_85cf4b5db7e6446dbff8a1b22b0c15f0",
            "placeholder": "​",
            "style": "IPY_MODEL_ca91cc4b44824f32a13934d6d11d8666",
            "value": " 4542/4542 [00:00&lt;00:00, 198637.51it/s]"
          }
        },
        "d3d98bb4dc2747429ecba41604ae0d23": {
          "model_module": "@jupyter-widgets/base",
          "model_name": "LayoutModel",
          "model_module_version": "1.2.0",
          "state": {
            "_model_module": "@jupyter-widgets/base",
            "_model_module_version": "1.2.0",
            "_model_name": "LayoutModel",
            "_view_count": null,
            "_view_module": "@jupyter-widgets/base",
            "_view_module_version": "1.2.0",
            "_view_name": "LayoutView",
            "align_content": null,
            "align_items": null,
            "align_self": null,
            "border": null,
            "bottom": null,
            "display": null,
            "flex": null,
            "flex_flow": null,
            "grid_area": null,
            "grid_auto_columns": null,
            "grid_auto_flow": null,
            "grid_auto_rows": null,
            "grid_column": null,
            "grid_gap": null,
            "grid_row": null,
            "grid_template_areas": null,
            "grid_template_columns": null,
            "grid_template_rows": null,
            "height": null,
            "justify_content": null,
            "justify_items": null,
            "left": null,
            "margin": null,
            "max_height": null,
            "max_width": null,
            "min_height": null,
            "min_width": null,
            "object_fit": null,
            "object_position": null,
            "order": null,
            "overflow": null,
            "overflow_x": null,
            "overflow_y": null,
            "padding": null,
            "right": null,
            "top": null,
            "visibility": null,
            "width": null
          }
        },
        "4a88144789904dcbafdd96d4e1f65846": {
          "model_module": "@jupyter-widgets/base",
          "model_name": "LayoutModel",
          "model_module_version": "1.2.0",
          "state": {
            "_model_module": "@jupyter-widgets/base",
            "_model_module_version": "1.2.0",
            "_model_name": "LayoutModel",
            "_view_count": null,
            "_view_module": "@jupyter-widgets/base",
            "_view_module_version": "1.2.0",
            "_view_name": "LayoutView",
            "align_content": null,
            "align_items": null,
            "align_self": null,
            "border": null,
            "bottom": null,
            "display": null,
            "flex": null,
            "flex_flow": null,
            "grid_area": null,
            "grid_auto_columns": null,
            "grid_auto_flow": null,
            "grid_auto_rows": null,
            "grid_column": null,
            "grid_gap": null,
            "grid_row": null,
            "grid_template_areas": null,
            "grid_template_columns": null,
            "grid_template_rows": null,
            "height": null,
            "justify_content": null,
            "justify_items": null,
            "left": null,
            "margin": null,
            "max_height": null,
            "max_width": null,
            "min_height": null,
            "min_width": null,
            "object_fit": null,
            "object_position": null,
            "order": null,
            "overflow": null,
            "overflow_x": null,
            "overflow_y": null,
            "padding": null,
            "right": null,
            "top": null,
            "visibility": null,
            "width": null
          }
        },
        "0fc783f43c5741a2861eac51d4c0f09b": {
          "model_module": "@jupyter-widgets/controls",
          "model_name": "DescriptionStyleModel",
          "model_module_version": "1.5.0",
          "state": {
            "_model_module": "@jupyter-widgets/controls",
            "_model_module_version": "1.5.0",
            "_model_name": "DescriptionStyleModel",
            "_view_count": null,
            "_view_module": "@jupyter-widgets/base",
            "_view_module_version": "1.2.0",
            "_view_name": "StyleView",
            "description_width": ""
          }
        },
        "5c03b25ad92c4a7386052fcfdb2ab25c": {
          "model_module": "@jupyter-widgets/base",
          "model_name": "LayoutModel",
          "model_module_version": "1.2.0",
          "state": {
            "_model_module": "@jupyter-widgets/base",
            "_model_module_version": "1.2.0",
            "_model_name": "LayoutModel",
            "_view_count": null,
            "_view_module": "@jupyter-widgets/base",
            "_view_module_version": "1.2.0",
            "_view_name": "LayoutView",
            "align_content": null,
            "align_items": null,
            "align_self": null,
            "border": null,
            "bottom": null,
            "display": null,
            "flex": null,
            "flex_flow": null,
            "grid_area": null,
            "grid_auto_columns": null,
            "grid_auto_flow": null,
            "grid_auto_rows": null,
            "grid_column": null,
            "grid_gap": null,
            "grid_row": null,
            "grid_template_areas": null,
            "grid_template_columns": null,
            "grid_template_rows": null,
            "height": null,
            "justify_content": null,
            "justify_items": null,
            "left": null,
            "margin": null,
            "max_height": null,
            "max_width": null,
            "min_height": null,
            "min_width": null,
            "object_fit": null,
            "object_position": null,
            "order": null,
            "overflow": null,
            "overflow_x": null,
            "overflow_y": null,
            "padding": null,
            "right": null,
            "top": null,
            "visibility": null,
            "width": null
          }
        },
        "c5d4fc66fbfa4ebeafe2f2fe65910dfc": {
          "model_module": "@jupyter-widgets/controls",
          "model_name": "ProgressStyleModel",
          "model_module_version": "1.5.0",
          "state": {
            "_model_module": "@jupyter-widgets/controls",
            "_model_module_version": "1.5.0",
            "_model_name": "ProgressStyleModel",
            "_view_count": null,
            "_view_module": "@jupyter-widgets/base",
            "_view_module_version": "1.2.0",
            "_view_name": "StyleView",
            "bar_color": null,
            "description_width": ""
          }
        },
        "85cf4b5db7e6446dbff8a1b22b0c15f0": {
          "model_module": "@jupyter-widgets/base",
          "model_name": "LayoutModel",
          "model_module_version": "1.2.0",
          "state": {
            "_model_module": "@jupyter-widgets/base",
            "_model_module_version": "1.2.0",
            "_model_name": "LayoutModel",
            "_view_count": null,
            "_view_module": "@jupyter-widgets/base",
            "_view_module_version": "1.2.0",
            "_view_name": "LayoutView",
            "align_content": null,
            "align_items": null,
            "align_self": null,
            "border": null,
            "bottom": null,
            "display": null,
            "flex": null,
            "flex_flow": null,
            "grid_area": null,
            "grid_auto_columns": null,
            "grid_auto_flow": null,
            "grid_auto_rows": null,
            "grid_column": null,
            "grid_gap": null,
            "grid_row": null,
            "grid_template_areas": null,
            "grid_template_columns": null,
            "grid_template_rows": null,
            "height": null,
            "justify_content": null,
            "justify_items": null,
            "left": null,
            "margin": null,
            "max_height": null,
            "max_width": null,
            "min_height": null,
            "min_width": null,
            "object_fit": null,
            "object_position": null,
            "order": null,
            "overflow": null,
            "overflow_x": null,
            "overflow_y": null,
            "padding": null,
            "right": null,
            "top": null,
            "visibility": null,
            "width": null
          }
        },
        "ca91cc4b44824f32a13934d6d11d8666": {
          "model_module": "@jupyter-widgets/controls",
          "model_name": "DescriptionStyleModel",
          "model_module_version": "1.5.0",
          "state": {
            "_model_module": "@jupyter-widgets/controls",
            "_model_module_version": "1.5.0",
            "_model_name": "DescriptionStyleModel",
            "_view_count": null,
            "_view_module": "@jupyter-widgets/base",
            "_view_module_version": "1.2.0",
            "_view_name": "StyleView",
            "description_width": ""
          }
        }
      }
    },
    "accelerator": "GPU",
    "gpuClass": "standard"
  },
  "cells": [
    {
      "cell_type": "code",
      "execution_count": null,
      "metadata": {
        "id": "ZLDpr0NC4HG2"
      },
      "outputs": [],
      "source": [
        "#@title import libraries\n",
        "\n",
        "import torch \n",
        "import torch.nn as nn\n",
        "import torch.nn.functional as F\n",
        "from torchvision import transforms\n",
        "import torchvision.datasets as datasets\n",
        "from torch.autograd import Variable\n",
        "from torch.utils.data import DataLoader\n",
        "\n",
        "import numpy as np\n",
        "from PIL import Image\n",
        "\n",
        "from tqdm import tqdm\n",
        "\n",
        "import os"
      ]
    },
    {
      "cell_type": "code",
      "source": [
        "#@title load dataset\n",
        "\n",
        "batch_size = 100\n",
        "transform =transforms.Compose([\n",
        "    transforms.ToTensor(),\n",
        "    transforms.Normalize(mean = [0.5], std = [0.5])\n",
        "])\n",
        "#transform = None\n",
        "\n",
        "\n",
        "mnist_trainset = datasets.MNIST(root='./data', train=True, download=True, transform=transform)\n",
        "mnist_testset = datasets.MNIST(root='./data', train=False, download=True, transform=transform)\n",
        "\n",
        "\n",
        "trainloader = DataLoader(mnist_trainset, batch_size = batch_size, num_workers = 0, shuffle=True)"
      ],
      "metadata": {
        "id": "_fJ2P54F4m6F",
        "outputId": "0b169d57-3e9f-4df3-f882-b76d64e2ff2f",
        "colab": {
          "base_uri": "https://localhost:8080/",
          "height": 437,
          "referenced_widgets": [
            "dc61cfa90d1e4a16a18f93f4c09ccf27",
            "38e6195a2d094cf3b8c6b20348413c25",
            "866ea2ae871a4f2b85a7488de49e118d",
            "749dbd9477e04793a57cdbc251aa2217",
            "47391a24644b4a6480cef3284c73c43e",
            "43a2346d15d042be9db26c29aa9390b5",
            "878907458ded4cb89aa6774924506aa6",
            "7abf4321ed914e59b996428bba5c9191",
            "0c563750c4bf4a50bc9ac0c5ba8f81f7",
            "a7003b60af434e3da97e818de9f79ffb",
            "89ef70262bbc49e4ae98e9e52586c4ef",
            "649d6b61c3ed4d2092f59d0bd4a15ac9",
            "500b0e65d20b4bfbac1497b0b360f8ce",
            "2e9c4dc63da440bb813e59f2657e8b58",
            "92389627e6c84dabbe37fe63e209ad8b",
            "003f6bb44c9f4ee4bd5a5cecb815be39",
            "b4e22a99e5084838b7769b93c0fa885e",
            "bbc8c483e01f46d887f3be4559d749ae",
            "0f203eb35066410a840f25be1cd0bfeb",
            "b0625287abee483bba096b4bb874cdde",
            "2015dea29a4243e89779ea65d6317367",
            "7717f5c0ec5f4c5687d29d8632e4e351",
            "f39a422f5a12430c92f102ec5eb24399",
            "7fd513a037d24ccf831b7f8cf3ef0897",
            "2f8517bf790648a2ab07ace8146cff04",
            "31e401cc38314dd09f5bafd128d955da",
            "58db9b526b154fce905ee98376c6d37b",
            "8242ad76cd2a45e8a27c315ffce8c705",
            "d18b741c075e43f0974d3ebd5f066fd9",
            "347496cfc9b549b7afdc2d456b58857c",
            "d4ce2625b1094b3282936b2472a22753",
            "cf00acd6602f4f87a06580ef6350117f",
            "ee00cc1f269c4d4e84e3a465c0dca8aa",
            "23fd703cb2b449ca9afbf2347bd5850f",
            "d5056d9c2b6e4335b1861d167157a48f",
            "4d0e4e100fb6426fbde9e815d56f0dc3",
            "3fc163eb8eab4149856d12723eb18c8b",
            "d3d98bb4dc2747429ecba41604ae0d23",
            "4a88144789904dcbafdd96d4e1f65846",
            "0fc783f43c5741a2861eac51d4c0f09b",
            "5c03b25ad92c4a7386052fcfdb2ab25c",
            "c5d4fc66fbfa4ebeafe2f2fe65910dfc",
            "85cf4b5db7e6446dbff8a1b22b0c15f0",
            "ca91cc4b44824f32a13934d6d11d8666"
          ]
        }
      },
      "execution_count": null,
      "outputs": [
        {
          "output_type": "stream",
          "name": "stdout",
          "text": [
            "Downloading http://yann.lecun.com/exdb/mnist/train-images-idx3-ubyte.gz\n",
            "Downloading http://yann.lecun.com/exdb/mnist/train-images-idx3-ubyte.gz to ./data/MNIST/raw/train-images-idx3-ubyte.gz\n"
          ]
        },
        {
          "output_type": "display_data",
          "data": {
            "text/plain": [
              "  0%|          | 0/9912422 [00:00<?, ?it/s]"
            ],
            "application/vnd.jupyter.widget-view+json": {
              "version_major": 2,
              "version_minor": 0,
              "model_id": "dc61cfa90d1e4a16a18f93f4c09ccf27"
            }
          },
          "metadata": {}
        },
        {
          "output_type": "stream",
          "name": "stdout",
          "text": [
            "Extracting ./data/MNIST/raw/train-images-idx3-ubyte.gz to ./data/MNIST/raw\n",
            "\n",
            "Downloading http://yann.lecun.com/exdb/mnist/train-labels-idx1-ubyte.gz\n",
            "Downloading http://yann.lecun.com/exdb/mnist/train-labels-idx1-ubyte.gz to ./data/MNIST/raw/train-labels-idx1-ubyte.gz\n"
          ]
        },
        {
          "output_type": "display_data",
          "data": {
            "text/plain": [
              "  0%|          | 0/28881 [00:00<?, ?it/s]"
            ],
            "application/vnd.jupyter.widget-view+json": {
              "version_major": 2,
              "version_minor": 0,
              "model_id": "649d6b61c3ed4d2092f59d0bd4a15ac9"
            }
          },
          "metadata": {}
        },
        {
          "output_type": "stream",
          "name": "stdout",
          "text": [
            "Extracting ./data/MNIST/raw/train-labels-idx1-ubyte.gz to ./data/MNIST/raw\n",
            "\n",
            "Downloading http://yann.lecun.com/exdb/mnist/t10k-images-idx3-ubyte.gz\n",
            "Downloading http://yann.lecun.com/exdb/mnist/t10k-images-idx3-ubyte.gz to ./data/MNIST/raw/t10k-images-idx3-ubyte.gz\n"
          ]
        },
        {
          "output_type": "display_data",
          "data": {
            "text/plain": [
              "  0%|          | 0/1648877 [00:00<?, ?it/s]"
            ],
            "application/vnd.jupyter.widget-view+json": {
              "version_major": 2,
              "version_minor": 0,
              "model_id": "f39a422f5a12430c92f102ec5eb24399"
            }
          },
          "metadata": {}
        },
        {
          "output_type": "stream",
          "name": "stdout",
          "text": [
            "Extracting ./data/MNIST/raw/t10k-images-idx3-ubyte.gz to ./data/MNIST/raw\n",
            "\n",
            "Downloading http://yann.lecun.com/exdb/mnist/t10k-labels-idx1-ubyte.gz\n",
            "Downloading http://yann.lecun.com/exdb/mnist/t10k-labels-idx1-ubyte.gz to ./data/MNIST/raw/t10k-labels-idx1-ubyte.gz\n"
          ]
        },
        {
          "output_type": "display_data",
          "data": {
            "text/plain": [
              "  0%|          | 0/4542 [00:00<?, ?it/s]"
            ],
            "application/vnd.jupyter.widget-view+json": {
              "version_major": 2,
              "version_minor": 0,
              "model_id": "23fd703cb2b449ca9afbf2347bd5850f"
            }
          },
          "metadata": {}
        },
        {
          "output_type": "stream",
          "name": "stdout",
          "text": [
            "Extracting ./data/MNIST/raw/t10k-labels-idx1-ubyte.gz to ./data/MNIST/raw\n",
            "\n"
          ]
        }
      ]
    },
    {
      "cell_type": "code",
      "source": [
        "Image.fromarray(((mnist_trainset.__getitem__(0)[0].reshape(28,28).numpy()+1)*127.5).astype('uint8'))"
      ],
      "metadata": {
        "colab": {
          "base_uri": "https://localhost:8080/",
          "height": 45
        },
        "id": "AEPasnHitg0y",
        "outputId": "93b53828-8555-41ad-cd80-e0e5f93c3dfd"
      },
      "execution_count": null,
      "outputs": [
        {
          "output_type": "execute_result",
          "data": {
            "text/plain": [
              "<PIL.Image.Image image mode=L size=28x28 at 0x7FFA7C114880>"
            ],
            "image/png": "[encoded data removed]"
          },
          "metadata": {},
          "execution_count": 3
        }
      ]
    },
    {
      "cell_type": "code",
      "source": [
        "#@title Define generator model\n",
        "class Generator(nn.Module):\n",
        "  def __init__(self, noise_dim, out_dim):\n",
        "    super(Generator, self).__init__()\n",
        "    #noise_dim: dimension of input noise vector\n",
        "    #out_dim: dimenstion of output image in our case 28 * 28\n",
        "\n",
        "    # noise_dim -> 256 -> 512 -> 512 -> out_dim\n",
        "    self.fc1 = nn.Linear(in_features=noise_dim, out_features=256)\n",
        "    self.fc2 = nn.Linear(in_features=256, out_features=512)\n",
        "    self.fc3 = nn.Linear(in_features=512, out_features=512)\n",
        "    self.fc4 = nn.Linear(in_features=512, out_features=out_dim)\n",
        "\n",
        "  def forward(self, x):\n",
        "    out = F.leaky_relu(self.fc1(x), negative_slope = 0.2)\n",
        "    out = F.leaky_relu(self.fc2(out), negative_slope = 0.2)\n",
        "    out = F.leaky_relu(self.fc3(out), negative_slope = 0.2)\n",
        "    out = torch.tanh(self.fc4(out))\n",
        "\n",
        "    return out\n"
      ],
      "metadata": {
        "id": "U9KcNnjs49Di"
      },
      "execution_count": null,
      "outputs": []
    },
    {
      "cell_type": "code",
      "source": [
        "G = Generator(100, 28 * 28)\n",
        "print(G)"
      ],
      "metadata": {
        "id": "dD-bNFse7kVI",
        "colab": {
          "base_uri": "https://localhost:8080/"
        },
        "outputId": "bd3bc752-1e74-4fff-f270-fcd234986c67"
      },
      "execution_count": null,
      "outputs": [
        {
          "output_type": "stream",
          "name": "stdout",
          "text": [
            "Generator(\n",
            "  (fc1): Linear(in_features=100, out_features=256, bias=True)\n",
            "  (fc2): Linear(in_features=256, out_features=512, bias=True)\n",
            "  (fc3): Linear(in_features=512, out_features=512, bias=True)\n",
            "  (fc4): Linear(in_features=512, out_features=784, bias=True)\n",
            ")\n"
          ]
        }
      ]
    },
    {
      "cell_type": "code",
      "source": [
        "#@title Define discriminator model\n",
        "class Discriminator(nn.Module):\n",
        "  def __init__(self, image_dim):\n",
        "    super(Discriminator, self).__init__()\n",
        "    #image_dim: dimension of input image. in our case 28 * 28\n",
        "    # image_dim -> 256 -> 128 -> 64 -> 1\n",
        "    self.fc1 = nn.Linear(in_features=image_dim, out_features=256)\n",
        "    self.fc2 = nn.Linear(in_features=256, out_features=128)\n",
        "    self.fc3 = nn.Linear(in_features=128, out_features=64)\n",
        "    self.fc4 = nn.Linear(in_features=64, out_features=1)\n",
        "\n",
        "\n",
        "  def forward(self, x):\n",
        "     out = F.leaky_relu(self.fc1(x), negative_slope = 0.2)\n",
        "     out = F.dropout(out, p=0.3)\n",
        "     out = F.leaky_relu(self.fc2(out), negative_slope = 0.2)\n",
        "     out = F.dropout(out, p=0.3)\n",
        "     out = F.leaky_relu(self.fc3(out), negative_slope = 0.2)\n",
        "     out = F.dropout(out, p=0.3)\n",
        "     out = torch.sigmoid(self.fc4(out))\n",
        "     return out"
      ],
      "metadata": {
        "id": "sl8GjZVd7G5s"
      },
      "execution_count": null,
      "outputs": []
    },
    {
      "cell_type": "code",
      "source": [
        "D = Discriminator(28 * 28)\n",
        "print(D)"
      ],
      "metadata": {
        "id": "sKKJ4Ngq7vA8",
        "colab": {
          "base_uri": "https://localhost:8080/"
        },
        "outputId": "28fe0247-7beb-43be-aa91-615f1d196cc1"
      },
      "execution_count": null,
      "outputs": [
        {
          "output_type": "stream",
          "name": "stdout",
          "text": [
            "Discriminator(\n",
            "  (fc1): Linear(in_features=784, out_features=256, bias=True)\n",
            "  (fc2): Linear(in_features=256, out_features=128, bias=True)\n",
            "  (fc3): Linear(in_features=128, out_features=64, bias=True)\n",
            "  (fc4): Linear(in_features=64, out_features=1, bias=True)\n",
            ")\n"
          ]
        }
      ]
    },
    {
      "cell_type": "code",
      "source": [
        ", backward\n",
        "#@title training\n",
        "\n",
        "lr = 0.0002 #learning rate\n",
        "nepochs = 10 #number of training epochs\n",
        "noise_dim = 100 #dimension of input noise vector\n",
        "\n",
        "class Trainer:\n",
        "  def __init__(self):\n",
        "    self.G = Generator(noise_dim = noise_dim, out_dim = 28 * 28).to('cuda:0')\n",
        "    self.D = Discriminator(image_dim = 28 * 28).to('cuda:0')\n",
        "\n",
        "    #optimizers. one for generator and one for discriminator\n",
        "\n",
        "    self.G_optimizer = torch.optim.Adam(self.G.parameters(), lr = lr)\n",
        "    self.D_optimizer = torch.optim.Adam(self.D.parameters(), lr = lr)\n",
        "\n",
        "\n",
        "    # loss function\n",
        "    self.criterion = nn.BCELoss()\n",
        "\n",
        "    self.eval_freq = 1\n",
        "    self.fig_dir = './figs'\n",
        "    os.makedirs(self.fig_dir, exist_ok = True)\n",
        "\n",
        "  def run(self):\n",
        "    for e in range(1, nepochs + 1):\n",
        "      if e % self.eval_freq == 0:\n",
        "        self.eval_step(e)\n",
        "      self.train_step(e)\n",
        "\n",
        "  def train_step(self, epoch):\n",
        "    self.G.train()\n",
        "    self.D.train()\n",
        "    pbar = tqdm(trainloader)\n",
        "    for i, data in enumerate(pbar):\n",
        "      real_data, _ = data\n",
        "      real_data = real_data.cuda()\n",
        "\n",
        "      D_loss = self.train_D(real_data)\n",
        "      G_loss = self.train_G()\n",
        "\n",
        "      pbar.set_description(\"Epoch: {}, G_loss = {:.4f}, D_loss = {:.4f}\".format(epoch, G_loss, D_loss))\n",
        "\n",
        "  def train_D(self, real_data):\n",
        "    self.D_optimizer.zero_grad()\n",
        "    D_loss = 0.\n",
        "    #real data: a batch of real data with shape(batch_size, 1, 28, 28)\n",
        "    #1. feed real data to D\n",
        "    #2. generate labels for real data (shoud be all ones). Hint: use torch.ones()\n",
        "    #3. compute loss for real data\n",
        "    #4. generate noise. Hint: use torch.randn()\n",
        "    #5. feed noise to G to get fake data\n",
        "    #6. feed fake data to D\n",
        "    #7. generate labels for fake data (shoud be all zeros). Hint: use torch.zeros()\n",
        "    #8. compute loss for fake data\n",
        "    #9. add losses and optimize D\n",
        "    real_data = real_data.reshape(batch_size,-1)\n",
        "    D_real = self.D(real_data)\n",
        "    real_labels = torch.ones((batch_size,1)).cuda()\n",
        "    D_loss_real = self.criterion(D_real, real_labels)\n",
        "    \n",
        "\n",
        "    noise = torch.randn((batch_size, noise_dim)).cuda()\n",
        "    fake_data = self.G(noise)\n",
        "    D_fake = self.D(fake_data)\n",
        "    fake_labels = torch.zeros((batch_size,1)).cuda()\n",
        "    D_loss_fake = self.criterion(D_fake,fake_labels)\n",
        "\n",
        "    D_loss = D_loss_fake + D_loss_real\n",
        "\n",
        "\n",
        "    D_loss.backward()\n",
        "    self.D_optimizer.step()\n",
        "\n",
        "    return D_loss\n",
        "\n",
        "  def train_G(self):\n",
        "    self.G_optimizer.zero_grad()\n",
        "    G_loss = 0.\n",
        "    #1. generate noise. Hint: use torch.randn()\n",
        "    #2. feed noise to G to get fake data\n",
        "    #3. feed fake data to D\n",
        "    #4. generate labels for fake data (shoud be all ones) (why?). Hint: use torch.zerooness()\n",
        "    #5. compute loss for fake data\n",
        "    #6. optimize generator\n",
        "\n",
        "    noise = torch.randn((batch_size, noise_dim)).cuda()\n",
        "    fake_data = self.G(noise)\n",
        "    D_fake = self.D(fake_data)\n",
        "    fake_labels = torch.ones((batch_size,1)).cuda()\n",
        "    G_loss = self.criterion(D_fake, fake_labels)\n",
        "    G_loss.backward()\n",
        "    self.G_optimizer.step()\n",
        "\n",
        "    return G_loss\n",
        "\n",
        "\n",
        "  def eval_step(self, epoch):\n",
        "    self.G.eval()\n",
        "    noise = torch.randn((1, noise_dim)).cuda()\n",
        "    image = self.G(noise).resize(28, 28)\n",
        "    image = image.clamp(-1, 1).detach().cpu().numpy()\n",
        "    \n",
        "    image = ((image + 1) * 127.5).astype('uint8')\n",
        "    Image.fromarray(image).save(os.path.join(self.fig_dir, 'fig_{}.png'.format(epoch)))"
      ],
      "metadata": {
        "id": "SrVMkV7p710c"
      },
      "execution_count": null,
      "outputs": []
    },
    {
      "cell_type": "code",
      "source": [
        "trainer = Trainer()\n",
        "trainer.run()"
      ],
      "metadata": {
        "id": "DMUGbZb295nX",
        "colab": {
          "base_uri": "https://localhost:8080/"
        },
        "outputId": "577cccda-62fd-48f3-90bb-7c0a5f1480d8"
      },
      "execution_count": null,
      "outputs": [
        {
          "output_type": "stream",
          "name": "stderr",
          "text": [
            "/usr/local/lib/python3.8/dist-packages/torch/_tensor.py:761: UserWarning: non-inplace resize is deprecated\n",
            "  warnings.warn(\"non-inplace resize is deprecated\")\n",
            "Epoch: 1, G_loss = 0.9290, D_loss = 1.1859: 100%|██████████| 600/600 [00:25<00:00, 23.87it/s]\n",
            "Epoch: 2, G_loss = 0.3604, D_loss = 1.6726: 100%|██████████| 600/600 [00:25<00:00, 23.64it/s]\n",
            "Epoch: 3, G_loss = 0.9328, D_loss = 1.1635: 100%|██████████| 600/600 [00:24<00:00, 24.38it/s]\n",
            "Epoch: 4, G_loss = 1.1305, D_loss = 1.2506: 100%|██████████| 600/600 [00:24<00:00, 24.76it/s]\n",
            "Epoch: 5, G_loss = 1.0716, D_loss = 1.3028: 100%|██████████| 600/600 [00:24<00:00, 24.93it/s]\n",
            "Epoch: 6, G_loss = 1.6784, D_loss = 1.0934: 100%|██████████| 600/600 [00:23<00:00, 25.06it/s]\n",
            "Epoch: 7, G_loss = 1.2201, D_loss = 1.2050: 100%|██████████| 600/600 [00:24<00:00, 24.29it/s]\n",
            "Epoch: 8, G_loss = 1.0745, D_loss = 1.0926: 100%|██████████| 600/600 [00:25<00:00, 23.36it/s]\n",
            "Epoch: 9, G_loss = 0.9575, D_loss = 1.1273: 100%|██████████| 600/600 [00:24<00:00, 24.28it/s]\n",
            "Epoch: 10, G_loss = 1.2129, D_loss = 0.8988: 100%|██████████| 600/600 [00:24<00:00, 24.86it/s]\n"
          ]
        }
      ]
    },
    {
      "cell_type": "code",
      "source": [
        "#@title Generate samples using trained generator\n",
        "noise_dim = 100\n",
        "G = Generator(noise_dim, 28 * 28).to('cuda')\n",
        "G.load_state_dict(torch.load('gen_weights.pth'))\n",
        "\n",
        "#load weights into model from gen_weights.pth\n",
        "#: generate 8 fake samples and plot them\n",
        "\n",
        "noise = torch.randn((8,100)).cuda()\n",
        "images = G(noise)\n",
        "print(images.shape)\n",
        "images = images.reshape(8,-1).clamp(-1,1).detach().cpu().numpy()\n",
        "\n",
        "print(images.shape)"
      ],
      "metadata": {
        "id": "DB3bjbIc-PuC",
        "colab": {
          "base_uri": "https://localhost:8080/"
        },
        "outputId": "63e9a5fd-8d5b-4835-febe-b474fdeabd29"
      },
      "execution_count": null,
      "outputs": [
        {
          "output_type": "stream",
          "name": "stdout",
          "text": [
            "torch.Size([8, 784])\n",
            "(8, 784)\n"
          ]
        }
      ]
    },
    {
      "cell_type": "code",
      "source": [
        "print(images.shape)"
      ],
      "metadata": {
        "colab": {
          "base_uri": "https://localhost:8080/"
        },
        "id": "jB9cwYt57mcp",
        "outputId": "d388caca-b4dc-4f3c-b57c-0653e163ac3c"
      },
      "execution_count": null,
      "outputs": [
        {
          "output_type": "stream",
          "name": "stdout",
          "text": [
            "(8, 784)\n"
          ]
        }
      ]
    },
    {
      "cell_type": "code",
      "source": [
        "images = ((images.reshape(8,28,28)+1)*0.5*255).astype('uint8')\n",
        "print(images.shape)"
      ],
      "metadata": {
        "id": "xBgUA5lw7mie",
        "colab": {
          "base_uri": "https://localhost:8080/"
        },
        "outputId": "701a053c-2c1c-40e1-aa57-717e04491c38"
      },
      "execution_count": null,
      "outputs": [
        {
          "output_type": "stream",
          "name": "stdout",
          "text": [
            "(8, 28, 28)\n"
          ]
        }
      ]
    },
    {
      "cell_type": "code",
      "source": [
        "images = np.concatenate(images, axis = 0)\n",
        "Image.fromarray(images)"
      ],
      "metadata": {
        "id": "GtQFIJcu9JHt",
        "outputId": "4ab66045-785c-46b3-842a-7f77b18c4ecb",
        "colab": {
          "base_uri": "https://localhost:8080/",
          "height": 241
        }
      },
      "execution_count": null,
      "outputs": [
        {
          "output_type": "execute_result",
          "data": {
            "text/plain": [
              "<PIL.Image.Image image mode=L size=28x224 at 0x7FF9DFA74580>"
            ],
            "image/png": "[encoded data removed]"
          },
          "metadata": {},
          "execution_count": 13
        }
      ]
    }
  ]
}